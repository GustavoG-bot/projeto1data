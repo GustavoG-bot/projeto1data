{
 "cells": [
  {
   "cell_type": "markdown",
   "metadata": {},
   "source": [
    "# Projeto 1 - Ciência dos Dados"
   ]
  },
  {
   "cell_type": "markdown",
   "metadata": {},
   "source": [
    "Nome: GUSTAVO CAMARGO\n",
    "\n",
    "Nome: TIAGO SEIXAS"
   ]
  },
  {
   "cell_type": "markdown",
   "metadata": {},
   "source": [
    "**Atenção:** Serão permitidos grupos de três pessoas, mas com uma rubrica mais exigente. Grupos deste tamanho precisarão fazer um questionário de avaliação de trabalho em equipe"
   ]
  },
  {
   "cell_type": "markdown",
   "metadata": {},
   "source": [
    "___\n",
    "Carregando algumas bibliotecas:"
   ]
  },
  {
   "cell_type": "code",
   "execution_count": 1,
   "metadata": {},
   "outputs": [],
   "source": [
    "%matplotlib inline\n",
    "import pandas as pd\n",
    "import matplotlib.pyplot as plt\n",
    "import numpy as np\n",
    "import os\n",
    "import re "
   ]
  },
  {
   "cell_type": "markdown",
   "metadata": {},
   "source": [
    "**Em `filename`, coloque o nome do seu arquivo de dados!**"
   ]
  },
  {
   "cell_type": "code",
   "execution_count": 2,
   "metadata": {
    "scrolled": false
   },
   "outputs": [
    {
     "name": "stdout",
     "output_type": "stream",
     "text": [
      "Encontrei o arquivo Apple.xlsx, tudo certo para prosseguir com a prova!\n"
     ]
    }
   ],
   "source": [
    "filename = 'Apple.xlsx'\n",
    "if filename in os.listdir():\n",
    "    print(f'Encontrei o arquivo {filename}, tudo certo para prosseguir com a prova!')\n",
    "else:\n",
    "    print(f'Não encontrei o arquivo {filename} aqui no diretório {os.getcwd()}, será que você não baixou o arquivo?')"
   ]
  },
  {
   "cell_type": "markdown",
   "metadata": {},
   "source": [
    "Carregando a base de dados com os tweets classificados como relevantes e não relevantes:"
   ]
  },
  {
   "cell_type": "code",
   "execution_count": 3,
   "metadata": {},
   "outputs": [
    {
     "data": {
      "text/html": [
       "<div>\n",
       "<style scoped>\n",
       "    .dataframe tbody tr th:only-of-type {\n",
       "        vertical-align: middle;\n",
       "    }\n",
       "\n",
       "    .dataframe tbody tr th {\n",
       "        vertical-align: top;\n",
       "    }\n",
       "\n",
       "    .dataframe thead th {\n",
       "        text-align: right;\n",
       "    }\n",
       "</style>\n",
       "<table border=\"1\" class=\"dataframe\">\n",
       "  <thead>\n",
       "    <tr style=\"text-align: right;\">\n",
       "      <th></th>\n",
       "      <th>Treinamento</th>\n",
       "      <th>Relevancia</th>\n",
       "    </tr>\n",
       "  </thead>\n",
       "  <tbody>\n",
       "    <tr>\n",
       "      <td>0</td>\n",
       "      <td>paaaaaaara com isso apple https://t.co/cetaiesil8</td>\n",
       "      <td>0</td>\n",
       "    </tr>\n",
       "    <tr>\n",
       "      <td>1</td>\n",
       "      <td>objetivo: falar sobre os novos produtos da app...</td>\n",
       "      <td>0</td>\n",
       "    </tr>\n",
       "    <tr>\n",
       "      <td>2</td>\n",
       "      <td>gente a apple n me da 1 min d paz eu ein</td>\n",
       "      <td>1</td>\n",
       "    </tr>\n",
       "    <tr>\n",
       "      <td>3</td>\n",
       "      <td>@prk_bora conte comigo</td>\n",
       "      <td>0</td>\n",
       "    </tr>\n",
       "    <tr>\n",
       "      <td>4</td>\n",
       "      <td>rt @sadbeautifulmel: stream party começando em...</td>\n",
       "      <td>0</td>\n",
       "    </tr>\n",
       "  </tbody>\n",
       "</table>\n",
       "</div>"
      ],
      "text/plain": [
       "                                         Treinamento  Relevancia\n",
       "0  paaaaaaara com isso apple https://t.co/cetaiesil8           0\n",
       "1  objetivo: falar sobre os novos produtos da app...           0\n",
       "2           gente a apple n me da 1 min d paz eu ein           1\n",
       "3                             @prk_bora conte comigo           0\n",
       "4  rt @sadbeautifulmel: stream party começando em...           0"
      ]
     },
     "execution_count": 3,
     "metadata": {},
     "output_type": "execute_result"
    }
   ],
   "source": [
    "train = pd.read_excel(filename)\n",
    "train.head(5)"
   ]
  },
  {
   "cell_type": "code",
   "execution_count": 4,
   "metadata": {},
   "outputs": [
    {
     "data": {
      "text/html": [
       "<div>\n",
       "<style scoped>\n",
       "    .dataframe tbody tr th:only-of-type {\n",
       "        vertical-align: middle;\n",
       "    }\n",
       "\n",
       "    .dataframe tbody tr th {\n",
       "        vertical-align: top;\n",
       "    }\n",
       "\n",
       "    .dataframe thead th {\n",
       "        text-align: right;\n",
       "    }\n",
       "</style>\n",
       "<table border=\"1\" class=\"dataframe\">\n",
       "  <thead>\n",
       "    <tr style=\"text-align: right;\">\n",
       "      <th></th>\n",
       "      <th>Teste</th>\n",
       "      <th>Relevancia</th>\n",
       "    </tr>\n",
       "  </thead>\n",
       "  <tbody>\n",
       "    <tr>\n",
       "      <td>0</td>\n",
       "      <td>aprovamos celulares de todas as marcas: samsun...</td>\n",
       "      <td>0</td>\n",
       "    </tr>\n",
       "    <tr>\n",
       "      <td>1</td>\n",
       "      <td>eu sempre defendo a @samsungbrasil, mas fica d...</td>\n",
       "      <td>1</td>\n",
       "    </tr>\n",
       "    <tr>\n",
       "      <td>2</td>\n",
       "      <td>dêem rt/fav aqui!!\\nbenfica jorge jesus paok #...</td>\n",
       "      <td>0</td>\n",
       "    </tr>\n",
       "    <tr>\n",
       "      <td>3</td>\n",
       "      <td>apple pelo amor de deus para de lança atualiza...</td>\n",
       "      <td>1</td>\n",
       "    </tr>\n",
       "    <tr>\n",
       "      <td>4</td>\n",
       "      <td>@xboxnewsreddit @siralysson olha a microsoft a...</td>\n",
       "      <td>0</td>\n",
       "    </tr>\n",
       "  </tbody>\n",
       "</table>\n",
       "</div>"
      ],
      "text/plain": [
       "                                               Teste  Relevancia\n",
       "0  aprovamos celulares de todas as marcas: samsun...           0\n",
       "1  eu sempre defendo a @samsungbrasil, mas fica d...           1\n",
       "2  dêem rt/fav aqui!!\\nbenfica jorge jesus paok #...           0\n",
       "3  apple pelo amor de deus para de lança atualiza...           1\n",
       "4  @xboxnewsreddit @siralysson olha a microsoft a...           0"
      ]
     },
     "execution_count": 4,
     "metadata": {},
     "output_type": "execute_result"
    }
   ],
   "source": [
    "test = pd.read_excel(filename, sheet_name = 'Teste')\n",
    "test.head(5)"
   ]
  },
  {
   "cell_type": "markdown",
   "metadata": {},
   "source": [
    "___\n",
    "## Classificador automático de sentimento\n"
   ]
  },
  {
   "cell_type": "markdown",
   "metadata": {},
   "source": [
    "Faça aqui uma descrição do seu produto e o que considerou como relevante ou não relevante na classificação dos tweets.\n",
    "\n",
    "**R:** Nosso produto é a marca de tecnologia Apple. Recentemente essa empresa realizou um evento para apresentar suas novas novidades. Portanto, consideramos que tweets que falassem de produtos, eventos e qualidades gerais da apple seriam considerados relevantes. Por outro lado, tweets que não tivessem muita relação com o que foi dito acima, seriam considerados irrelevantes para a análise.     "
   ]
  },
  {
   "cell_type": "markdown",
   "metadata": {},
   "source": [
    "___\n",
    "### Montando um Classificador Naive-Bayes\n",
    "\n",
    "Considerando apenas as mensagens da planilha Treinamento, ensine  seu classificador."
   ]
  },
  {
   "cell_type": "markdown",
   "metadata": {},
   "source": [
    "#### > Funções que serão úteis para o desenvolvimento do projeto:"
   ]
  },
  {
   "cell_type": "code",
   "execution_count": 5,
   "metadata": {},
   "outputs": [],
   "source": [
    "def cleanup(text):\n",
    "    punctuation = '[!-.:?;\\n$%#@)(\\/“_ショッポ]' \n",
    "    pattern = re.compile(punctuation)\n",
    "    text_subbed = re.sub(pattern, '', text)\n",
    "    return text_subbed\n",
    "\n",
    "def separa(train):\n",
    "    #Transformando a Serie para uma lista\n",
    "    lista_train = train.Treinamento.tolist()\n",
    "    \n",
    "    #Transforma a lista em uma string\n",
    "    teste = ''.join([str(frase) for frase in lista_train])\n",
    "    \n",
    "    #Separa os items da string e forma uma lista \n",
    "    teste_separado = teste.lower().split()\n",
    "    \n",
    "    #Volta para uma Series\n",
    "    teste_serie = pd.Series(teste_separado)\n",
    "    return teste_serie"
   ]
  },
  {
   "cell_type": "markdown",
   "metadata": {},
   "source": [
    "#### > Iniciando processo de limpeza:"
   ]
  },
  {
   "cell_type": "code",
   "execution_count": 6,
   "metadata": {},
   "outputs": [
    {
     "data": {
      "text/html": [
       "<div>\n",
       "<style scoped>\n",
       "    .dataframe tbody tr th:only-of-type {\n",
       "        vertical-align: middle;\n",
       "    }\n",
       "\n",
       "    .dataframe tbody tr th {\n",
       "        vertical-align: top;\n",
       "    }\n",
       "\n",
       "    .dataframe thead th {\n",
       "        text-align: right;\n",
       "    }\n",
       "</style>\n",
       "<table border=\"1\" class=\"dataframe\">\n",
       "  <thead>\n",
       "    <tr style=\"text-align: right;\">\n",
       "      <th></th>\n",
       "      <th>Treinamento</th>\n",
       "      <th>Relevancia</th>\n",
       "    </tr>\n",
       "  </thead>\n",
       "  <tbody>\n",
       "    <tr>\n",
       "      <td>0</td>\n",
       "      <td>paaaaaaara com isso apple httpstcocetaiesil8</td>\n",
       "      <td>0</td>\n",
       "    </tr>\n",
       "    <tr>\n",
       "      <td>1</td>\n",
       "      <td>objetivo falar sobre os novos produtos da appl...</td>\n",
       "      <td>0</td>\n",
       "    </tr>\n",
       "    <tr>\n",
       "      <td>2</td>\n",
       "      <td>gente a apple n me da 1 min d paz eu ein</td>\n",
       "      <td>1</td>\n",
       "    </tr>\n",
       "    <tr>\n",
       "      <td>3</td>\n",
       "      <td>prkbora conte comigo</td>\n",
       "      <td>0</td>\n",
       "    </tr>\n",
       "    <tr>\n",
       "      <td>4</td>\n",
       "      <td>rt sadbeautifulmel stream party começando em 2...</td>\n",
       "      <td>0</td>\n",
       "    </tr>\n",
       "  </tbody>\n",
       "</table>\n",
       "</div>"
      ],
      "text/plain": [
       "                                         Treinamento  Relevancia\n",
       "0       paaaaaaara com isso apple httpstcocetaiesil8           0\n",
       "1  objetivo falar sobre os novos produtos da appl...           0\n",
       "2           gente a apple n me da 1 min d paz eu ein           1\n",
       "3                               prkbora conte comigo           0\n",
       "4  rt sadbeautifulmel stream party começando em 2...           0"
      ]
     },
     "execution_count": 6,
     "metadata": {},
     "output_type": "execute_result"
    }
   ],
   "source": [
    "train.Treinamento = train.Treinamento.apply(cleanup)\n",
    "train.head(5)"
   ]
  },
  {
   "cell_type": "code",
   "execution_count": 7,
   "metadata": {},
   "outputs": [
    {
     "data": {
      "text/html": [
       "<div>\n",
       "<style scoped>\n",
       "    .dataframe tbody tr th:only-of-type {\n",
       "        vertical-align: middle;\n",
       "    }\n",
       "\n",
       "    .dataframe tbody tr th {\n",
       "        vertical-align: top;\n",
       "    }\n",
       "\n",
       "    .dataframe thead th {\n",
       "        text-align: right;\n",
       "    }\n",
       "</style>\n",
       "<table border=\"1\" class=\"dataframe\">\n",
       "  <thead>\n",
       "    <tr style=\"text-align: right;\">\n",
       "      <th></th>\n",
       "      <th>Teste</th>\n",
       "      <th>Relevancia</th>\n",
       "    </tr>\n",
       "  </thead>\n",
       "  <tbody>\n",
       "    <tr>\n",
       "      <td>0</td>\n",
       "      <td>aprovamos celulares de todas as marcas samsung...</td>\n",
       "      <td>0</td>\n",
       "    </tr>\n",
       "    <tr>\n",
       "      <td>1</td>\n",
       "      <td>eu sempre defendo a samsungbrasil mas fica dif...</td>\n",
       "      <td>1</td>\n",
       "    </tr>\n",
       "    <tr>\n",
       "      <td>2</td>\n",
       "      <td>dêem rtfav aquibenfica jorge jesus paok applee...</td>\n",
       "      <td>0</td>\n",
       "    </tr>\n",
       "    <tr>\n",
       "      <td>3</td>\n",
       "      <td>apple pelo amor de deus para de lança atualiza...</td>\n",
       "      <td>1</td>\n",
       "    </tr>\n",
       "    <tr>\n",
       "      <td>4</td>\n",
       "      <td>xboxnewsreddit siralysson olha a microsoft ata...</td>\n",
       "      <td>0</td>\n",
       "    </tr>\n",
       "  </tbody>\n",
       "</table>\n",
       "</div>"
      ],
      "text/plain": [
       "                                               Teste  Relevancia\n",
       "0  aprovamos celulares de todas as marcas samsung...           0\n",
       "1  eu sempre defendo a samsungbrasil mas fica dif...           1\n",
       "2  dêem rtfav aquibenfica jorge jesus paok applee...           0\n",
       "3  apple pelo amor de deus para de lança atualiza...           1\n",
       "4  xboxnewsreddit siralysson olha a microsoft ata...           0"
      ]
     },
     "execution_count": 7,
     "metadata": {},
     "output_type": "execute_result"
    }
   ],
   "source": [
    "test.Teste= test.Teste.apply(cleanup)\n",
    "test.head(5)"
   ]
  },
  {
   "cell_type": "markdown",
   "metadata": {},
   "source": [
    "#### > Repare que nossa limpeza não removeu os emojis, como foi pedido:\n"
   ]
  },
  {
   "cell_type": "code",
   "execution_count": 8,
   "metadata": {},
   "outputs": [
    {
     "data": {
      "text/html": [
       "<div>\n",
       "<style scoped>\n",
       "    .dataframe tbody tr th:only-of-type {\n",
       "        vertical-align: middle;\n",
       "    }\n",
       "\n",
       "    .dataframe tbody tr th {\n",
       "        vertical-align: top;\n",
       "    }\n",
       "\n",
       "    .dataframe thead th {\n",
       "        text-align: right;\n",
       "    }\n",
       "</style>\n",
       "<table border=\"1\" class=\"dataframe\">\n",
       "  <thead>\n",
       "    <tr style=\"text-align: right;\">\n",
       "      <th></th>\n",
       "      <th>Teste</th>\n",
       "      <th>Relevancia</th>\n",
       "    </tr>\n",
       "  </thead>\n",
       "  <tbody>\n",
       "    <tr>\n",
       "      <td>29</td>\n",
       "      <td>[📸] vou jogar umas verdades no colo de vocêsam...</td>\n",
       "      <td>0</td>\n",
       "    </tr>\n",
       "  </tbody>\n",
       "</table>\n",
       "</div>"
      ],
      "text/plain": [
       "                                                Teste  Relevancia\n",
       "29  [📸] vou jogar umas verdades no colo de vocêsam...           0"
      ]
     },
     "execution_count": 8,
     "metadata": {},
     "output_type": "execute_result"
    }
   ],
   "source": [
    "test.iloc[[29],:]"
   ]
  },
  {
   "cell_type": "markdown",
   "metadata": {},
   "source": [
    "#### > Categorizando as colunas, a fim de facilitar análise:"
   ]
  },
  {
   "cell_type": "code",
   "execution_count": 9,
   "metadata": {},
   "outputs": [
    {
     "data": {
      "text/html": [
       "<div>\n",
       "<style scoped>\n",
       "    .dataframe tbody tr th:only-of-type {\n",
       "        vertical-align: middle;\n",
       "    }\n",
       "\n",
       "    .dataframe tbody tr th {\n",
       "        vertical-align: top;\n",
       "    }\n",
       "\n",
       "    .dataframe thead th {\n",
       "        text-align: right;\n",
       "    }\n",
       "</style>\n",
       "<table border=\"1\" class=\"dataframe\">\n",
       "  <thead>\n",
       "    <tr style=\"text-align: right;\">\n",
       "      <th></th>\n",
       "      <th>Treinamento</th>\n",
       "      <th>Relevancia</th>\n",
       "    </tr>\n",
       "  </thead>\n",
       "  <tbody>\n",
       "    <tr>\n",
       "      <td>0</td>\n",
       "      <td>paaaaaaara com isso apple httpstcocetaiesil8</td>\n",
       "      <td>Irrelevante</td>\n",
       "    </tr>\n",
       "    <tr>\n",
       "      <td>1</td>\n",
       "      <td>objetivo falar sobre os novos produtos da appl...</td>\n",
       "      <td>Irrelevante</td>\n",
       "    </tr>\n",
       "    <tr>\n",
       "      <td>2</td>\n",
       "      <td>gente a apple n me da 1 min d paz eu ein</td>\n",
       "      <td>Relevante</td>\n",
       "    </tr>\n",
       "    <tr>\n",
       "      <td>3</td>\n",
       "      <td>prkbora conte comigo</td>\n",
       "      <td>Irrelevante</td>\n",
       "    </tr>\n",
       "    <tr>\n",
       "      <td>4</td>\n",
       "      <td>rt sadbeautifulmel stream party começando em 2...</td>\n",
       "      <td>Irrelevante</td>\n",
       "    </tr>\n",
       "  </tbody>\n",
       "</table>\n",
       "</div>"
      ],
      "text/plain": [
       "                                         Treinamento   Relevancia\n",
       "0       paaaaaaara com isso apple httpstcocetaiesil8  Irrelevante\n",
       "1  objetivo falar sobre os novos produtos da appl...  Irrelevante\n",
       "2           gente a apple n me da 1 min d paz eu ein    Relevante\n",
       "3                               prkbora conte comigo  Irrelevante\n",
       "4  rt sadbeautifulmel stream party começando em 2...  Irrelevante"
      ]
     },
     "execution_count": 9,
     "metadata": {},
     "output_type": "execute_result"
    }
   ],
   "source": [
    "train.loc[:,'Relevancia'] = train['Relevancia'].astype('category')\n",
    "train.Relevancia.cat.categories = ['Irrelevante', 'Relevante']\n",
    "\n",
    "train.head(5)"
   ]
  },
  {
   "cell_type": "code",
   "execution_count": 10,
   "metadata": {},
   "outputs": [
    {
     "data": {
      "text/html": [
       "<div>\n",
       "<style scoped>\n",
       "    .dataframe tbody tr th:only-of-type {\n",
       "        vertical-align: middle;\n",
       "    }\n",
       "\n",
       "    .dataframe tbody tr th {\n",
       "        vertical-align: top;\n",
       "    }\n",
       "\n",
       "    .dataframe thead th {\n",
       "        text-align: right;\n",
       "    }\n",
       "</style>\n",
       "<table border=\"1\" class=\"dataframe\">\n",
       "  <thead>\n",
       "    <tr style=\"text-align: right;\">\n",
       "      <th></th>\n",
       "      <th>Teste</th>\n",
       "      <th>Relevancia</th>\n",
       "    </tr>\n",
       "  </thead>\n",
       "  <tbody>\n",
       "    <tr>\n",
       "      <td>0</td>\n",
       "      <td>aprovamos celulares de todas as marcas samsung...</td>\n",
       "      <td>Irrelevante</td>\n",
       "    </tr>\n",
       "    <tr>\n",
       "      <td>1</td>\n",
       "      <td>eu sempre defendo a samsungbrasil mas fica dif...</td>\n",
       "      <td>Relevante</td>\n",
       "    </tr>\n",
       "    <tr>\n",
       "      <td>2</td>\n",
       "      <td>dêem rtfav aquibenfica jorge jesus paok applee...</td>\n",
       "      <td>Irrelevante</td>\n",
       "    </tr>\n",
       "    <tr>\n",
       "      <td>3</td>\n",
       "      <td>apple pelo amor de deus para de lança atualiza...</td>\n",
       "      <td>Relevante</td>\n",
       "    </tr>\n",
       "    <tr>\n",
       "      <td>4</td>\n",
       "      <td>xboxnewsreddit siralysson olha a microsoft ata...</td>\n",
       "      <td>Irrelevante</td>\n",
       "    </tr>\n",
       "  </tbody>\n",
       "</table>\n",
       "</div>"
      ],
      "text/plain": [
       "                                               Teste   Relevancia\n",
       "0  aprovamos celulares de todas as marcas samsung...  Irrelevante\n",
       "1  eu sempre defendo a samsungbrasil mas fica dif...    Relevante\n",
       "2  dêem rtfav aquibenfica jorge jesus paok applee...  Irrelevante\n",
       "3  apple pelo amor de deus para de lança atualiza...    Relevante\n",
       "4  xboxnewsreddit siralysson olha a microsoft ata...  Irrelevante"
      ]
     },
     "execution_count": 10,
     "metadata": {},
     "output_type": "execute_result"
    }
   ],
   "source": [
    "test.loc[:,'Relevancia'] = test['Relevancia'].astype('category')\n",
    "test.Relevancia.cat.categories = ['Irrelevante', 'Relevante']\n",
    "\n",
    "test.head(5)"
   ]
  },
  {
   "cell_type": "markdown",
   "metadata": {},
   "source": [
    "#### > Iniciando o treinamento do classificador:"
   ]
  },
  {
   "cell_type": "code",
   "execution_count": 11,
   "metadata": {},
   "outputs": [
    {
     "data": {
      "text/plain": [
       "apple    159\n",
       "o        104\n",
       "a         97\n",
       "que       80\n",
       "de        69\n",
       "dtype: int64"
      ]
     },
     "execution_count": 11,
     "metadata": {},
     "output_type": "execute_result"
    }
   ],
   "source": [
    "#Achando as frequências de cada palavra relevante: \n",
    "filtro_relevante = train.loc[train.Relevancia == 'Relevante',:]\n",
    "relevante = separa(filtro_relevante) #Isso é uma series\n",
    "\n",
    "count_rel = relevante.value_counts() \n",
    "n_rel = count_rel.sum()\n",
    "\n",
    "count_rel.head(5)"
   ]
  },
  {
   "cell_type": "code",
   "execution_count": 12,
   "metadata": {},
   "outputs": [
    {
     "data": {
      "text/plain": [
       "apple    111\n",
       "e         50\n",
       "de        47\n",
       "a         44\n",
       "da        41\n",
       "dtype: int64"
      ]
     },
     "execution_count": 12,
     "metadata": {},
     "output_type": "execute_result"
    }
   ],
   "source": [
    "#Achando as frequências de cada palavra irrelevante: \n",
    "filtro_irrelevante = train.loc[train.Relevancia == 'Irrelevante',:]\n",
    "irrelevante = separa(filtro_irrelevante) #Isso é uma series\n",
    "\n",
    "count_irrel = irrelevante.value_counts()\n",
    "n_irrel = count_rel.sum()\n",
    "\n",
    "count_irrel.head(5)"
   ]
  },
  {
   "cell_type": "code",
   "execution_count": 13,
   "metadata": {},
   "outputs": [
    {
     "name": "stdout",
     "output_type": "stream",
     "text": [
      "-0.7985076962177716 -0.5978370007556204\n"
     ]
    }
   ],
   "source": [
    "#Achando probabilidades a priori: \n",
    "\n",
    "priori = train.Relevancia.value_counts(True, sort = False)\n",
    "p_irrelevante_log = np.log(priori[0])\n",
    "p_relevante_log = np.log(priori[1])\n",
    "\n",
    "print(p_irrelevante_log, p_relevante_log)"
   ]
  },
  {
   "cell_type": "code",
   "execution_count": 14,
   "metadata": {},
   "outputs": [
    {
     "name": "stdout",
     "output_type": "stream",
     "text": [
      "300\n",
      "300\n"
     ]
    }
   ],
   "source": [
    "#Achando probabilidades condicionais:\n",
    "\n",
    "#Smoothing\n",
    "alfa = 1\n",
    "\n",
    "#Chute de quantas palavras tem no vocabulário\n",
    "v = 1000000\n",
    "\n",
    "#Condições iniciais \n",
    "log_probP_dadoRelevante=1\n",
    "log_probP_dadoIrrelevante=1\n",
    "log_prob_desconhecida = 1\n",
    "\n",
    "log_prob_desconhecida = np.log(alfa/(n_rel + alfa*v))\n",
    "log_prob_desconhecida_ir = np.log(alfa/(n_irrel +  alfa*v))\n",
    "\n",
    "#Criando as listas\n",
    "listaProbs_r = []\n",
    "listaProbs_irr = []\n",
    "\n",
    "i=0\n",
    "\n",
    "while i<len(train):\n",
    "    for palavra in train.iloc[i,0].split():\n",
    "    \n",
    "        #Se a palavra estiver no relevante:\n",
    "        if palavra in relevante.tolist():\n",
    "            log_probP_dadoRelevante += np.log((count_rel[palavra] + alfa)/(n_rel + alfa*v))    \n",
    "        else:\n",
    "            log_probP_dadoRelevante += log_prob_desconhecida\n",
    "            \n",
    "            \n",
    "    #Se a palavra estiver no irrelevante:\n",
    "        if palavra in irrelevante.tolist():\n",
    "            log_probP_dadoIrrelevante += np.log((count_irrel[palavra] + alfa)/(n_irrel + alfa*v))\n",
    "        \n",
    "        else:\n",
    "            log_probP_dadoIrrelevante += log_prob_desconhecida_ir \n",
    "            \n",
    "        \n",
    "    listaProbs_r.append(log_probP_dadoRelevante)\n",
    "    listaProbs_irr.append(log_probP_dadoIrrelevante)\n",
    "    \n",
    "    log_probP_dadoRelevante = 0\n",
    "    log_probP_dadoIrrelevante = 0\n",
    "    \n",
    "    i+=1\n",
    "    \n",
    "\n",
    "print(len(listaProbs_r))\n",
    "print(len(listaProbs_irr))\n"
   ]
  },
  {
   "cell_type": "code",
   "execution_count": 15,
   "metadata": {
    "scrolled": true
   },
   "outputs": [
    {
     "name": "stdout",
     "output_type": "stream",
     "text": [
      "300\n",
      "300\n"
     ]
    }
   ],
   "source": [
    "lista_Relevante_dadoP = []\n",
    "lista_Irrelevante_dadoP = []\n",
    "\n",
    "for i in range(0,300):\n",
    "    \n",
    "    lista_Relevante_dadoP.append(listaProbs_r[i] + p_relevante_log)\n",
    "    lista_Irrelevante_dadoP.append(listaProbs_irr[i] + p_irrelevante_log)\n",
    "    \n",
    "print(len(lista_Relevante_dadoP))\n",
    "print(len(lista_Irrelevante_dadoP))"
   ]
  },
  {
   "cell_type": "code",
   "execution_count": 16,
   "metadata": {},
   "outputs": [],
   "source": [
    "train['RdadoP'] = np.array(lista_Relevante_dadoP)\n",
    "train['Irdadop'] = np.array(lista_Irrelevante_dadoP)"
   ]
  },
  {
   "cell_type": "code",
   "execution_count": 17,
   "metadata": {},
   "outputs": [
    {
     "data": {
      "text/html": [
       "<div>\n",
       "<style scoped>\n",
       "    .dataframe tbody tr th:only-of-type {\n",
       "        vertical-align: middle;\n",
       "    }\n",
       "\n",
       "    .dataframe tbody tr th {\n",
       "        vertical-align: top;\n",
       "    }\n",
       "\n",
       "    .dataframe thead th {\n",
       "        text-align: right;\n",
       "    }\n",
       "</style>\n",
       "<table border=\"1\" class=\"dataframe\">\n",
       "  <thead>\n",
       "    <tr style=\"text-align: right;\">\n",
       "      <th></th>\n",
       "      <th>Treinamento</th>\n",
       "      <th>Relevancia</th>\n",
       "      <th>RdadoP</th>\n",
       "      <th>Irdadop</th>\n",
       "      <th>Naive_Bayes</th>\n",
       "    </tr>\n",
       "  </thead>\n",
       "  <tbody>\n",
       "    <tr>\n",
       "      <td>0</td>\n",
       "      <td>paaaaaaara com isso apple httpstcocetaiesil8</td>\n",
       "      <td>Irrelevante</td>\n",
       "      <td>-58.240129</td>\n",
       "      <td>-59.162118</td>\n",
       "      <td>Relevante</td>\n",
       "    </tr>\n",
       "    <tr>\n",
       "      <td>1</td>\n",
       "      <td>objetivo falar sobre os novos produtos da appl...</td>\n",
       "      <td>Irrelevante</td>\n",
       "      <td>-209.233488</td>\n",
       "      <td>-201.908844</td>\n",
       "      <td>Irrelevante</td>\n",
       "    </tr>\n",
       "    <tr>\n",
       "      <td>2</td>\n",
       "      <td>gente a apple n me da 1 min d paz eu ein</td>\n",
       "      <td>Relevante</td>\n",
       "      <td>-139.515369</td>\n",
       "      <td>-148.407621</td>\n",
       "      <td>Relevante</td>\n",
       "    </tr>\n",
       "    <tr>\n",
       "      <td>3</td>\n",
       "      <td>prkbora conte comigo</td>\n",
       "      <td>Irrelevante</td>\n",
       "      <td>-42.053484</td>\n",
       "      <td>-41.561007</td>\n",
       "      <td>Irrelevante</td>\n",
       "    </tr>\n",
       "    <tr>\n",
       "      <td>4</td>\n",
       "      <td>rt sadbeautifulmel stream party começando em 2...</td>\n",
       "      <td>Irrelevante</td>\n",
       "      <td>-260.908648</td>\n",
       "      <td>-245.657587</td>\n",
       "      <td>Irrelevante</td>\n",
       "    </tr>\n",
       "  </tbody>\n",
       "</table>\n",
       "</div>"
      ],
      "text/plain": [
       "                                         Treinamento   Relevancia      RdadoP  \\\n",
       "0       paaaaaaara com isso apple httpstcocetaiesil8  Irrelevante  -58.240129   \n",
       "1  objetivo falar sobre os novos produtos da appl...  Irrelevante -209.233488   \n",
       "2           gente a apple n me da 1 min d paz eu ein    Relevante -139.515369   \n",
       "3                               prkbora conte comigo  Irrelevante  -42.053484   \n",
       "4  rt sadbeautifulmel stream party começando em 2...  Irrelevante -260.908648   \n",
       "\n",
       "      Irdadop  Naive_Bayes  \n",
       "0  -59.162118    Relevante  \n",
       "1 -201.908844  Irrelevante  \n",
       "2 -148.407621    Relevante  \n",
       "3  -41.561007  Irrelevante  \n",
       "4 -245.657587  Irrelevante  "
      ]
     },
     "execution_count": 17,
     "metadata": {},
     "output_type": "execute_result"
    }
   ],
   "source": [
    "train['Naive_Bayes'] = np.where(train['RdadoP'] > train['Irdadop'],'Relevante','Irrelevante')\n",
    "train.head(5)"
   ]
  },
  {
   "cell_type": "code",
   "execution_count": 24,
   "metadata": {},
   "outputs": [
    {
     "data": {
      "text/html": [
       "<div>\n",
       "<style scoped>\n",
       "    .dataframe tbody tr th:only-of-type {\n",
       "        vertical-align: middle;\n",
       "    }\n",
       "\n",
       "    .dataframe tbody tr th {\n",
       "        vertical-align: top;\n",
       "    }\n",
       "\n",
       "    .dataframe thead th {\n",
       "        text-align: right;\n",
       "    }\n",
       "</style>\n",
       "<table border=\"1\" class=\"dataframe\">\n",
       "  <thead>\n",
       "    <tr style=\"text-align: right;\">\n",
       "      <th>Relevancia</th>\n",
       "      <th>Irrelevante</th>\n",
       "      <th>Relevante</th>\n",
       "    </tr>\n",
       "    <tr>\n",
       "      <th>Naive_Bayes</th>\n",
       "      <th></th>\n",
       "      <th></th>\n",
       "    </tr>\n",
       "  </thead>\n",
       "  <tbody>\n",
       "    <tr>\n",
       "      <td>Irrelevante</td>\n",
       "      <td>0.27</td>\n",
       "      <td>0.00</td>\n",
       "    </tr>\n",
       "    <tr>\n",
       "      <td>Relevante</td>\n",
       "      <td>0.18</td>\n",
       "      <td>0.55</td>\n",
       "    </tr>\n",
       "  </tbody>\n",
       "</table>\n",
       "</div>"
      ],
      "text/plain": [
       "Relevancia   Irrelevante  Relevante\n",
       "Naive_Bayes                        \n",
       "Irrelevante         0.27       0.00\n",
       "Relevante           0.18       0.55"
      ]
     },
     "execution_count": 24,
     "metadata": {},
     "output_type": "execute_result"
    }
   ],
   "source": [
    "tabela = pd.crosstab(train.Naive_Bayes, train.Relevancia, normalize=True)\n",
    "tabela"
   ]
  },
  {
   "cell_type": "markdown",
   "metadata": {},
   "source": [
    "___\n",
    "### Verificando a performance do Classificador\n",
    "\n",
    "Agora você deve testar o seu classificador com a base de Testes."
   ]
  },
  {
   "cell_type": "code",
   "execution_count": 30,
   "metadata": {},
   "outputs": [
    {
     "name": "stdout",
     "output_type": "stream",
     "text": [
      "200\n"
     ]
    }
   ],
   "source": [
    "#Zerando as listas e reiniciando processo de cálculo de probabilidades\n",
    "\n",
    "del listaProbs_r[:]\n",
    "del listaProbs_irr[:]\n",
    "\n",
    "listaProbs_r = []\n",
    "listaProbs_irr = []\n",
    "\n",
    "i=0\n",
    "\n",
    "while i<len(test):\n",
    "    for palavra in test.iloc[i,0].split():\n",
    "    \n",
    "        #Se a palavra estiver no relevante:\n",
    "        if palavra in relevante.tolist():\n",
    "            log_probP_dadoRelevante += np.log((count_rel[palavra] + alfa)/(n_rel + alfa*v))    \n",
    "        else:\n",
    "            log_probP_dadoRelevante += log_prob_desconhecida\n",
    "            \n",
    "            \n",
    "    #Se a palavra estiver no irrelevante:\n",
    "        if palavra in irrelevante.tolist():\n",
    "            log_probP_dadoIrrelevante += np.log((count_irrel[palavra] + alfa)/(n_irrel + alfa*v))\n",
    "        \n",
    "        else:\n",
    "            log_probP_dadoIrrelevante += log_prob_desconhecida_ir \n",
    "            \n",
    "        \n",
    "    listaProbs_r.append(log_probP_dadoRelevante)\n",
    "    listaProbs_irr.append(log_probP_dadoIrrelevante)\n",
    "    \n",
    "    log_probP_dadoRelevante = 0\n",
    "    log_probP_dadoIrrelevante = 0\n",
    "    \n",
    "    i+=1\n"
   ]
  },
  {
   "cell_type": "code",
   "execution_count": 28,
   "metadata": {},
   "outputs": [
    {
     "data": {
      "text/html": [
       "<div>\n",
       "<style scoped>\n",
       "    .dataframe tbody tr th:only-of-type {\n",
       "        vertical-align: middle;\n",
       "    }\n",
       "\n",
       "    .dataframe tbody tr th {\n",
       "        vertical-align: top;\n",
       "    }\n",
       "\n",
       "    .dataframe thead th {\n",
       "        text-align: right;\n",
       "    }\n",
       "</style>\n",
       "<table border=\"1\" class=\"dataframe\">\n",
       "  <thead>\n",
       "    <tr style=\"text-align: right;\">\n",
       "      <th></th>\n",
       "      <th>Teste</th>\n",
       "      <th>Relevancia</th>\n",
       "      <th>RdadoP</th>\n",
       "      <th>Irdadop</th>\n",
       "      <th>Naive_Bayes</th>\n",
       "    </tr>\n",
       "  </thead>\n",
       "  <tbody>\n",
       "    <tr>\n",
       "      <td>0</td>\n",
       "      <td>aprovamos celulares de todas as marcas samsung...</td>\n",
       "      <td>Irrelevante</td>\n",
       "      <td>-248.648914</td>\n",
       "      <td>-255.603606</td>\n",
       "      <td>Relevante</td>\n",
       "    </tr>\n",
       "    <tr>\n",
       "      <td>1</td>\n",
       "      <td>eu sempre defendo a samsungbrasil mas fica dif...</td>\n",
       "      <td>Relevante</td>\n",
       "      <td>-275.921188</td>\n",
       "      <td>-282.063292</td>\n",
       "      <td>Relevante</td>\n",
       "    </tr>\n",
       "    <tr>\n",
       "      <td>2</td>\n",
       "      <td>dêem rtfav aquibenfica jorge jesus paok applee...</td>\n",
       "      <td>Irrelevante</td>\n",
       "      <td>-349.260424</td>\n",
       "      <td>-306.576285</td>\n",
       "      <td>Irrelevante</td>\n",
       "    </tr>\n",
       "    <tr>\n",
       "      <td>3</td>\n",
       "      <td>apple pelo amor de deus para de lança atualiza...</td>\n",
       "      <td>Relevante</td>\n",
       "      <td>-149.327020</td>\n",
       "      <td>-158.691442</td>\n",
       "      <td>Relevante</td>\n",
       "    </tr>\n",
       "    <tr>\n",
       "      <td>4</td>\n",
       "      <td>xboxnewsreddit siralysson olha a microsoft ata...</td>\n",
       "      <td>Irrelevante</td>\n",
       "      <td>-135.178713</td>\n",
       "      <td>-139.777575</td>\n",
       "      <td>Relevante</td>\n",
       "    </tr>\n",
       "  </tbody>\n",
       "</table>\n",
       "</div>"
      ],
      "text/plain": [
       "                                               Teste   Relevancia      RdadoP  \\\n",
       "0  aprovamos celulares de todas as marcas samsung...  Irrelevante -248.648914   \n",
       "1  eu sempre defendo a samsungbrasil mas fica dif...    Relevante -275.921188   \n",
       "2  dêem rtfav aquibenfica jorge jesus paok applee...  Irrelevante -349.260424   \n",
       "3  apple pelo amor de deus para de lança atualiza...    Relevante -149.327020   \n",
       "4  xboxnewsreddit siralysson olha a microsoft ata...  Irrelevante -135.178713   \n",
       "\n",
       "      Irdadop  Naive_Bayes  \n",
       "0 -255.603606    Relevante  \n",
       "1 -282.063292    Relevante  \n",
       "2 -306.576285  Irrelevante  \n",
       "3 -158.691442    Relevante  \n",
       "4 -139.777575    Relevante  "
      ]
     },
     "execution_count": 28,
     "metadata": {},
     "output_type": "execute_result"
    }
   ],
   "source": [
    "#Recriando as listas \n",
    "del lista_Relevante_dadoP[:]\n",
    "del lista_Irrelevante_dadoP[:]\n",
    "\n",
    "lista_Relevante_dadoP = []\n",
    "lista_Irrelevante_dadoP = []\n",
    "\n",
    "#Calcula probabilidades finais\n",
    "for i in range(0,200):\n",
    "    \n",
    "    lista_Relevante_dadoP.append(listaProbs_r[i] + p_relevante_log)\n",
    "    lista_Irrelevante_dadoP.append(listaProbs_irr[i] + p_irrelevante_log)\n",
    "    \n",
    "#Adicionando ao DataFrame\n",
    "test['RdadoP'] = np.array(lista_Relevante_dadoP)\n",
    "test['Irdadop'] = np.array(lista_Irrelevante_dadoP)\n",
    "\n",
    "#Classificando\n",
    "test['Naive_Bayes'] = np.where(test['RdadoP'] > test['Irdadop'],'Relevante','Irrelevante')\n",
    "test.head(5)"
   ]
  },
  {
   "cell_type": "code",
   "execution_count": 29,
   "metadata": {},
   "outputs": [
    {
     "data": {
      "text/html": [
       "<div>\n",
       "<style scoped>\n",
       "    .dataframe tbody tr th:only-of-type {\n",
       "        vertical-align: middle;\n",
       "    }\n",
       "\n",
       "    .dataframe tbody tr th {\n",
       "        vertical-align: top;\n",
       "    }\n",
       "\n",
       "    .dataframe thead th {\n",
       "        text-align: right;\n",
       "    }\n",
       "</style>\n",
       "<table border=\"1\" class=\"dataframe\">\n",
       "  <thead>\n",
       "    <tr style=\"text-align: right;\">\n",
       "      <th>Relevancia</th>\n",
       "      <th>Irrelevante</th>\n",
       "      <th>Relevante</th>\n",
       "    </tr>\n",
       "    <tr>\n",
       "      <th>Naive_Bayes</th>\n",
       "      <th></th>\n",
       "      <th></th>\n",
       "    </tr>\n",
       "  </thead>\n",
       "  <tbody>\n",
       "    <tr>\n",
       "      <td>Irrelevante</td>\n",
       "      <td>0.07</td>\n",
       "      <td>0.01</td>\n",
       "    </tr>\n",
       "    <tr>\n",
       "      <td>Relevante</td>\n",
       "      <td>0.41</td>\n",
       "      <td>0.51</td>\n",
       "    </tr>\n",
       "  </tbody>\n",
       "</table>\n",
       "</div>"
      ],
      "text/plain": [
       "Relevancia   Irrelevante  Relevante\n",
       "Naive_Bayes                        \n",
       "Irrelevante         0.07       0.01\n",
       "Relevante           0.41       0.51"
      ]
     },
     "execution_count": 29,
     "metadata": {},
     "output_type": "execute_result"
    }
   ],
   "source": [
    "tabela_final = pd.crosstab(test.Naive_Bayes, test.Relevancia, normalize=True)\n",
    "tabela_final"
   ]
  },
  {
   "cell_type": "markdown",
   "metadata": {},
   "source": [
    "-  Porcentagem de verdadeiros positivos: 51%\n",
    "-  Porcentagem de falsos positivos: 41%\n",
    "-  Porcentagem de verdadeiros negativos: 7%\n",
    "-  Porcentagem de falsos negativos: 1%\n",
    "\n",
    "Pode-se ver que o nosso classificador Naïve Bayes apresentou 58% de veracidade."
   ]
  },
  {
   "cell_type": "markdown",
   "metadata": {},
   "source": [
    "___\n",
    "### Concluindo"
   ]
  },
  {
   "cell_type": "markdown",
   "metadata": {},
   "source": [
    "#### > Sugerir e explicar melhorias reais com indicações concretas de como implementar (indicar como fazer e indicar material de pesquisa)"
   ]
  },
  {
   "cell_type": "markdown",
   "metadata": {},
   "source": [
    "- Uma forma de melhorar um classificador do tipo Naïve Bayes seria não assumir que os elementos existem individualmente, usando ao invés disso os elementos como sendo conjuntos, usando de uma correlação entre os elementos e uma determinada classe, usando disso para determinar a importância dos mesmos.\n",
    "\n",
    "- Uma maneira de fazer melhorias reais seria remover Stop words, ou seja, palavras que não agregam valor algum para a análise de dados (repare que isso abrange um conjunto maior de palavras do que a limpeza que nós indicamos no item de novas limpezas). Todavia, essa seleção deve ser feita com MUITO cuidado, visto que da mesma forma que pode beneficiar o modelo, também pode prejudica-lo!\n",
    "\n",
    "Fontes: https://www.researchgate.net/publication/262394061_Improving_Naive_Bayes_classifier_using_conditional_probabilities e\n",
    "https://stats.stackexchange.com/questions/280441/stopword-removal-suprisingly-decreases-accuracy-of-naive-bayes-model"
   ]
  },
  {
   "cell_type": "markdown",
   "metadata": {},
   "source": [
    "#### > Propor diferentes cenários para Naïve Bayes fora do contexto do projeto"
   ]
  },
  {
   "cell_type": "markdown",
   "metadata": {},
   "source": [
    "- O modelo Naïve Bayes pode ser usado juntamente com outros algoritmos para criar sistemas de recomendação, como o usado pela Netflix para recomendar filmes.\n",
    "\n",
    "- Outras aplicações, seria checar se um e-mail é um spam ou não (algo muito utilizado em jogos on-line. Poderia também ser utilizado para classificar se um artigo é de política, futebol, economia, dentre muitos outros assuntos.\n",
    "\n",
    "\n",
    "Fontes: https://towardsdatascience.com/a-mathematical-explanation-of-naive-bayes-in-5-minutes-44adebcdb5f8 e https://www.quora.com/In-what-real-world-applications-is-Naive-Bayes-classifier-used"
   ]
  },
  {
   "cell_type": "markdown",
   "metadata": {},
   "source": [
    "#### > Propor outras limpezas e transformações que não afetem a qualidade da informação ou classificação"
   ]
  },
  {
   "cell_type": "markdown",
   "metadata": {},
   "source": [
    "- Para melhorar a informação que se obtém com o modelo Naïve Bayes, pode-se criar uma nova função para excluir certas palavras, como por exemplo palavrões, que não agregam em nada à pesquisa.\n",
    "\n",
    "- Outra limpeza seria remover palavras que sejam curtas demais e que não agregam valor, como por exemplo \"a\" , \"b\" , \"c\" . Esses tipos de palavras, artigos e frases não são muito úteis para a análise do dado. \n",
    "\n",
    "Fonte: https://www.codementor.io/@ilyaas97/data-cleaning-in-python-basics-using-pandas-yw18j94yg"
   ]
  },
  {
   "cell_type": "markdown",
   "metadata": {},
   "source": [
    "#### > Explicar por que não posso usar o próprio classificador para gerar mais amostras de treinamento"
   ]
  },
  {
   "cell_type": "markdown",
   "metadata": {},
   "source": [
    "- Caso seja usado o proprio classificador para gerar mais amostras de treinamento, o mesmo não conseguirá expandir seu vocabulário e será incapaz de se tornar mais verossímio e de poder ser usado em mais situações."
   ]
  },
  {
   "cell_type": "markdown",
   "metadata": {},
   "source": [
    "___\n",
    "## Aperfeiçoamento:\n",
    "\n",
    "Os trabalhos vão evoluir em conceito dependendo da quantidade de itens avançados:\n",
    "\n",
    "* Limpar: \\n, :, \", ', (, ), etc SEM remover emojis\n",
    "* Corrigir separação de espaços entre palavras e emojis ou entre emojis e emojis\n",
    "* Propor outras limpezas e transformações que não afetem a qualidade da informação ou classificação\n",
    "* Criar categorias intermediárias de relevância baseadas na probabilidade: ex.: muito relevante, relevante, neutro, irrelevante, muito irrelevante (3 categorias: C, mais categorias conta para B)\n",
    "* Explicar por que não posso usar o próprio classificador para gerar mais amostras de treinamento\n",
    "* Propor diferentes cenários para Naïve Bayes fora do contexto do projeto\n",
    "* Sugerir e explicar melhorias reais com indicações concretas de como implementar (indicar como fazer e indicar material de pesquisa)\n",
    "* Montar um dashboard que realiza análise de sentimento e visualiza estes dados"
   ]
  },
  {
   "cell_type": "markdown",
   "metadata": {},
   "source": [
    "___\n",
    "## Referências"
   ]
  },
  {
   "cell_type": "markdown",
   "metadata": {},
   "source": [
    "[Naive Bayes and Text Classification](https://arxiv.org/pdf/1410.5329.pdf)  **Mais completo**\n",
    "\n",
    "[A practical explanation of a Naive Bayes Classifier](https://monkeylearn.com/blog/practical-explanation-naive-bayes-classifier/) **Mais simples**"
   ]
  }
 ],
 "metadata": {
  "kernelspec": {
   "display_name": "Python 3",
   "language": "python",
   "name": "python3"
  },
  "language_info": {
   "codemirror_mode": {
    "name": "ipython",
    "version": 3
   },
   "file_extension": ".py",
   "mimetype": "text/x-python",
   "name": "python",
   "nbconvert_exporter": "python",
   "pygments_lexer": "ipython3",
   "version": "3.7.4"
  }
 },
 "nbformat": 4,
 "nbformat_minor": 4
}
